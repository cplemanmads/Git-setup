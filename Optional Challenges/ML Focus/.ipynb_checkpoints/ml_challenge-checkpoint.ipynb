{
 "cells": [
  {
   "cell_type": "markdown",
   "metadata": {},
   "source": [
    "# ML Challenge (Optional)"
   ]
  },
  {
   "cell_type": "markdown",
   "metadata": {},
   "source": [
    "Train, test, optimize, and analyze the performance of a classification model using a methodology of your choice for the randomly generated moons dataset.\n",
    "\n",
    "You are not being evaluated for the performance of your model. Instead, we are interested in whether you can implement a simple but rigorous ML workflow.\n",
    "\n",
    "Show all of your work in this notebook."
   ]
  },
  {
   "cell_type": "code",
   "execution_count": 72,
   "metadata": {},
   "outputs": [],
   "source": [
    "# you are free to use any package you deem fit\n",
    "import numpy as np\n",
    "import matplotlib.pyplot as plt\n",
    "from sklearn.linear_model import LogisticRegression\n",
    "from sklearn.model_selection import train_test_split"
   ]
  },
  {
   "cell_type": "markdown",
   "metadata": {},
   "source": [
    "## Dataset"
   ]
  },
  {
   "cell_type": "code",
   "execution_count": 41,
   "metadata": {},
   "outputs": [],
   "source": [
    "# DO NOT MODIFY\n",
    "from sklearn.datasets import make_moons\n",
    "\n",
    "X, Y = make_moons(random_state=42, n_samples=(50, 450), noise=0.25)"
   ]
  },
  {
   "cell_type": "markdown",
   "metadata": {},
   "source": [
    "#### Data Inspection\n",
    "Let's check the `X` data"
   ]
  },
  {
   "cell_type": "code",
   "execution_count": 54,
   "metadata": {},
   "outputs": [
    {
     "data": {
      "text/plain": [
       "(500, 2)"
      ]
     },
     "execution_count": 54,
     "metadata": {},
     "output_type": "execute_result"
    }
   ],
   "source": [
    "# Ensure the data is an array and return it's shape\n",
    "X = np.asarray(X)\n",
    "X.shape"
   ]
  },
  {
   "cell_type": "markdown",
   "metadata": {},
   "source": [
    "It's a 2D array. Let's run some summary statistics"
   ]
  },
  {
   "cell_type": "code",
   "execution_count": 78,
   "metadata": {},
   "outputs": [
    {
     "data": {
      "image/png": "[encoded data removed]",
      "text/plain": [
       "<Figure size 640x480 with 1 Axes>"
      ]
     },
     "metadata": {},
     "output_type": "display_data"
    }
   ],
   "source": [
    "# Mean, Median, and IQR of dataset; determining of there's need of a scaler\n",
    "plt.boxplot(X, labels = ['X[0]', 'X[1]'], showmeans = True);"
   ]
  },
  {
   "cell_type": "markdown",
   "metadata": {},
   "source": [
    "We know the Y data is one's and zero's, so we don't need to inspect that"
   ]
  },
  {
   "cell_type": "code",
   "execution_count": 55,
   "metadata": {},
   "outputs": [
    {
     "data": {
      "text/plain": [
       "(500,)"
      ]
     },
     "execution_count": 55,
     "metadata": {},
     "output_type": "execute_result"
    }
   ],
   "source": [
    "Y = np.asarray(Y)\n",
    "Y.shape"
   ]
  },
  {
   "cell_type": "markdown",
   "metadata": {},
   "source": [
    "## Helpful Functions"
   ]
  },
  {
   "cell_type": "code",
   "execution_count": 202,
   "metadata": {},
   "outputs": [],
   "source": [
    "def percent_change(final, initial):\n",
    "    return 100 * (final - initial) / initial\n",
    "\n",
    "def solver_performance(solver_name):\n",
    "    model = LogisticRegression(solver = solver_name).fit(X_train, y_train)\n",
    "    return model.score(X_train, y_train), model.score(X_test,y_test)\n",
    "\n",
    "def multi_class_performance(multi_class_name):\n",
    "    model = LogisticRegression(multi_class = multi_class_name).fit(X_train, y_train)\n",
    "    return model.score(X_train, y_train), model.score(X_test,y_test)\n",
    "\n",
    "def intercept_performance(intercept_value):\n",
    "    model = LogisticRegression(C = intercept_value).fit(X_train, y_train)\n",
    "    return model.score(X_train, y_train), model.score(X_test,y_test)\n",
    "\n",
    "# Note that func has to be one of the functions with the name *_performance\n",
    "def create_custom_dict(arr, func):\n",
    "    return {i: func(i) for i in arr}\n",
    "\n",
    "def performance_change(performance_dict, base_values):\n",
    "    train = {method: performance_dict[method][0] - base_values[0] for method in performance_dict}\n",
    "    test = {method: performance_dict[method][1] - base_values[1] for method in performance_dict}\n",
    "    return train, test"
   ]
  },
  {
   "cell_type": "markdown",
   "metadata": {},
   "source": [
    "## Training"
   ]
  },
  {
   "cell_type": "code",
   "execution_count": 60,
   "metadata": {},
   "outputs": [],
   "source": [
    "# Choosing a testing size of 30% because we have enough training data\n",
    "# random_state is set to 42 because it was set to 42 in the make_moons() method\n",
    "X_train, X_test, y_train, y_test = train_test_split(X, Y, test_size=.30, random_state=42)"
   ]
  },
  {
   "cell_type": "code",
   "execution_count": 82,
   "metadata": {},
   "outputs": [
    {
     "name": "stdout",
     "output_type": "stream",
     "text": [
      "X_train shape is: (350, 2)\n",
      "y_train shape is: (350,)\n"
     ]
    }
   ],
   "source": [
    "#Ensuring training size is as expexted\n",
    "print('X_train shape is: ' + str(X_train.shape))\n",
    "print('y_train shape is: ' + str(y_train.shape))"
   ]
  },
  {
   "cell_type": "markdown",
   "metadata": {},
   "source": [
    "## Testing / Optimization"
   ]
  },
  {
   "cell_type": "markdown",
   "metadata": {},
   "source": [
    "#### Base Model"
   ]
  },
  {
   "cell_type": "code",
   "execution_count": 85,
   "metadata": {},
   "outputs": [],
   "source": [
    "# Fit the base model\n",
    "model = LogisticRegression()\n",
    "model = model.fit(X_train,y_train)"
   ]
  },
  {
   "cell_type": "code",
   "execution_count": 93,
   "metadata": {},
   "outputs": [
    {
     "data": {
      "text/plain": [
       "0.9228571428571428"
      ]
     },
     "execution_count": 93,
     "metadata": {},
     "output_type": "execute_result"
    }
   ],
   "source": [
    "# Base model training score\n",
    "model_base_train = model.score(X_train, y_train)\n",
    "model_base_train"
   ]
  },
  {
   "cell_type": "code",
   "execution_count": 151,
   "metadata": {},
   "outputs": [
    {
     "data": {
      "text/plain": [
       "0.9533333333333334"
      ]
     },
     "execution_count": 151,
     "metadata": {},
     "output_type": "execute_result"
    }
   ],
   "source": [
    "# Base model testing score\n",
    "model_base_test = model.score(X_test, y_test)\n",
    "model_base_test"
   ]
  },
  {
   "cell_type": "code",
   "execution_count": 189,
   "metadata": {},
   "outputs": [],
   "source": [
    "model_base_performance = model_base_train, model_base_test"
   ]
  },
  {
   "cell_type": "markdown",
   "metadata": {},
   "source": [
    "#### Iterate over solvers\n",
    "The last model performed quite well on the training data, and generalized well on the testing data."
   ]
  },
  {
   "cell_type": "code",
   "execution_count": 192,
   "metadata": {},
   "outputs": [
    {
     "data": {
      "text/plain": [
       "{'newton-cg': (0.9228571428571428, 0.9533333333333334),\n",
       " 'sag': (0.9228571428571428, 0.9533333333333334),\n",
       " 'saga': (0.9228571428571428, 0.9533333333333334),\n",
       " 'lbfgs': (0.9228571428571428, 0.9533333333333334)}"
      ]
     },
     "execution_count": 192,
     "metadata": {},
     "output_type": "execute_result"
    }
   ],
   "source": [
    "# Generate an array of solvers to iterate over\n",
    "solvers = np.array(['newton-cg', 'sag', 'saga', 'lbfgs'])\n",
    "\n",
    "# Initialize and append results to a dictionary\n",
    "solver_performances = create_custom_dict(solvers, solver_performance)\n",
    "\n",
    "# Return results\n",
    "solver_performances"
   ]
  },
  {
   "cell_type": "markdown",
   "metadata": {},
   "source": [
    "Changing the solver had no discernable effect on the performance of the model:"
   ]
  },
  {
   "cell_type": "code",
   "execution_count": 199,
   "metadata": {},
   "outputs": [
    {
     "name": "stdout",
     "output_type": "stream",
     "text": [
      "Change in train:{'newton-cg': 0.0, 'sag': 0.0, 'saga': 0.0, 'lbfgs': 0.0}\n",
      "Change in test:{'newton-cg': 0.0, 'sag': 0.0, 'saga': 0.0, 'lbfgs': 0.0}\n"
     ]
    }
   ],
   "source": [
    "# Calculate the change in performance from the base model to models incorporating each solver\n",
    "change_in_train, change_in_test = performance_change(solver_performances, model_base_performance)\n",
    "print('Change in train:' + str(change_in_train))\n",
    "print('Change in test:' + str(change_in_test))"
   ]
  },
  {
   "cell_type": "markdown",
   "metadata": {},
   "source": [
    "#### Iterate over multi_class arguments"
   ]
  },
  {
   "cell_type": "code",
   "execution_count": 169,
   "metadata": {},
   "outputs": [],
   "source": [
    "# Generate an array of multi_class arguments to iterate over\n",
    "multi_class_names = np.array(['auto', 'ovr', 'multinomial'])\n",
    "\n",
    "# Initialize and append results to a dictionary\n",
    "multi_class_performances = create_custom_dict(multi_class_names, multi_class_performance)"
   ]
  },
  {
   "cell_type": "code",
   "execution_count": 170,
   "metadata": {},
   "outputs": [
    {
     "data": {
      "text/plain": [
       "{'auto': (0.9228571428571428, 0.9533333333333334),\n",
       " 'ovr': (0.9228571428571428, 0.9533333333333334),\n",
       " 'multinomial': (0.9257142857142857, 0.9533333333333334)}"
      ]
     },
     "execution_count": 170,
     "metadata": {},
     "output_type": "execute_result"
    }
   ],
   "source": [
    "# Return results\n",
    "multi_class_performances"
   ]
  },
  {
   "cell_type": "markdown",
   "metadata": {},
   "source": [
    "There was a minor improvement in test performance when using the `multinomial` argument for the `multi_class` parameter:"
   ]
  },
  {
   "cell_type": "code",
   "execution_count": 200,
   "metadata": {},
   "outputs": [
    {
     "name": "stdout",
     "output_type": "stream",
     "text": [
      "Change in train:{'auto': 0.0, 'ovr': 0.0, 'multinomial': 0.0028571428571428914}\n",
      "Change in test:{'auto': 0.0, 'ovr': 0.0, 'multinomial': 0.0}\n"
     ]
    }
   ],
   "source": [
    "# Calculate the change in performance from the base model to models incorporating each multi_class argument\n",
    "change_in_train, change_in_test = performance_change(multi_class_performances, model_base_performance)\n",
    "print('Change in train:' + str(change_in_train))\n",
    "print('Change in test:' + str(change_in_test))"
   ]
  },
  {
   "cell_type": "markdown",
   "metadata": {},
   "source": [
    "#### Iterating over different intercepts"
   ]
  },
  {
   "cell_type": "code",
   "execution_count": 207,
   "metadata": {},
   "outputs": [],
   "source": [
    "# Generate an array of intercepts to iterate over\n",
    "intercepts = np.arange(0.01,1.0,.1)\n",
    "\n",
    "# Initialize and append results to a dictionary\n",
    "intercept_performances = create_custom_dict(intercepts, intercept_performance)"
   ]
  },
  {
   "cell_type": "code",
   "execution_count": null,
   "metadata": {},
   "outputs": [],
   "source": [
    "# Return results\n",
    "intercept_performances"
   ]
  },
  {
   "cell_type": "code",
   "execution_count": null,
   "metadata": {},
   "outputs": [],
   "source": [
    "# Calculate the change in performance from the base model to models incorporating each multi_class argument\n",
    "change_in_train, change_in_test = performance_change(intercept_performances, model_base_performance)\n",
    "print('Change in train:' + str(change_in_train))\n",
    "print('Change in test:' + str(change_in_test))"
   ]
  },
  {
   "cell_type": "markdown",
   "metadata": {},
   "source": [
    "#### Normalizing Independent Variables (X[0] and X[1])"
   ]
  },
  {
   "cell_type": "code",
   "execution_count": 225,
   "metadata": {},
   "outputs": [],
   "source": [
    "# Import method\n",
    "from sklearn.preprocessing import StandardScaler\n",
    "\n",
    "# Initialize StandardScaler object\n",
    "scaler = StandardScaler()\n",
    "\n",
    "# Normalize the training and testing X data\n",
    "X_train_scaled = scaler.fit_transform(X_train)\n",
    "X_test_scaled = scaler.transform(X_test)\n",
    "\n",
    "\n",
    "# Fit the base model\n",
    "model = LogisticRegression()\n",
    "model = model.fit(X_train_scaled,y_train)"
   ]
  },
  {
   "cell_type": "code",
   "execution_count": 226,
   "metadata": {},
   "outputs": [
    {
     "data": {
      "text/plain": [
       "0.9228571428571428"
      ]
     },
     "execution_count": 226,
     "metadata": {},
     "output_type": "execute_result"
    }
   ],
   "source": [
    "# Base model training score\n",
    "model_base_train = model.score(X_train_scaled, y_train)\n",
    "model_base_train\n"
   ]
  },
  {
   "cell_type": "code",
   "execution_count": 227,
   "metadata": {},
   "outputs": [
    {
     "data": {
      "text/plain": [
       "0.9533333333333334"
      ]
     },
     "execution_count": 227,
     "metadata": {},
     "output_type": "execute_result"
    }
   ],
   "source": [
    "# Base model testing score\n",
    "model_base_test = model.score(X_test_scaled, y_test)\n",
    "model_base_test"
   ]
  },
  {
   "cell_type": "markdown",
   "metadata": {},
   "source": [
    "Performance does not change after normalizing the X data."
   ]
  },
  {
   "cell_type": "markdown",
   "metadata": {},
   "source": [
    "## Performance Analysis"
   ]
  },
  {
   "cell_type": "markdown",
   "metadata": {},
   "source": [
    "Using the LogisticRegression in the sklearn.linear_model library yielded a high training score of .9229, and a testing score of .9533. This indicated the model fit the data well in testing and was generalizable to the testing data. Although performance was already quite high, attempts at optimization included changing the solver, multi_class, and intercept parameters, along with using the StandardScaler object to normalize the indedependent variables. Through each of these attempts, the testing performance did not improve. However, this model has performed well with each modification. Further testing (with new data) would be useful to see if the model maintains its precision."
   ]
  }
 ],
 "metadata": {
  "kernelspec": {
   "display_name": "Python 3 (ipykernel)",
   "language": "python",
   "name": "python3"
  },
  "language_info": {
   "codemirror_mode": {
    "name": "ipython",
    "version": 3
   },
   "file_extension": ".py",
   "mimetype": "text/x-python",
   "name": "python",
   "nbconvert_exporter": "python",
   "pygments_lexer": "ipython3",
   "version": "3.11.5"
  },
  "vscode": {
   "interpreter": {
    "hash": "e78b6b4158d8f577a77be3bef6c4f5889b406541923fa59adc2e6c48950512fc"
   }
  }
 },
 "nbformat": 4,
 "nbformat_minor": 4
}
